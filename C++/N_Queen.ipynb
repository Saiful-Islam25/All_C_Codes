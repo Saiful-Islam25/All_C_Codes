{
 "cells": [
  {
   "cell_type": "code",
   "execution_count": 1,
   "id": "dad6a03c-f24b-4012-8342-0ce389410fb0",
   "metadata": {},
   "outputs": [
    {
     "name": "stdout",
     "output_type": "stream",
     "text": [
      "\n",
      "Solution 1:\n",
      "*Q**\n",
      "***Q\n",
      "Q***\n",
      "**Q*\n",
      "\n",
      "Solution 2:\n",
      "**Q*\n",
      "Q***\n",
      "***Q\n",
      "*Q**\n",
      "\n",
      "Total solving ways: 2\n"
     ]
    }
   ],
   "source": [
    "def is_safe(board, row, col, n):\n",
    "    # Check column\n",
    "    for i in range(row):\n",
    "        if board[i][col] == 'Q':\n",
    "            return False\n",
    "\n",
    "    # left diagonal\n",
    "    i, j = row - 1, col - 1\n",
    "    while i >= 0 and j >= 0:\n",
    "        if board[i][j] == 'Q':\n",
    "            return False\n",
    "        i -= 1\n",
    "        j -= 1\n",
    "\n",
    "    # right diagonal\n",
    "    i, j = row - 1, col + 1\n",
    "    while i >= 0 and j < n:\n",
    "        if board[i][j] == 'Q':\n",
    "            return False\n",
    "        i -= 1\n",
    "        j += 1\n",
    "\n",
    "    return True\n",
    "\n",
    "def n_queens(board, row, n, ans):\n",
    "    if row == n:\n",
    "        ans.append(board[:])\n",
    "        return\n",
    "\n",
    "    for col in range(n):\n",
    "        if is_safe(board, row, col, n):\n",
    "\n",
    "            row_list = list(board[row])\n",
    "            row_list[col] = 'Q'\n",
    "            board[row] = ''.join(row_list)\n",
    "\n",
    "            n_queens(board, row + 1, n, ans)\n",
    "\n",
    "            row_list[col] = '*'\n",
    "            board[row] = ''.join(row_list)\n",
    "\n",
    "\n",
    "def solve_n_queens(n):\n",
    "    board = ['*' * n for _ in range(n)]\n",
    "    ans = []\n",
    "    n_queens(board, 0, n, ans)\n",
    "    return ans\n",
    "\n",
    "solutions = solve_n_queens(4)\n",
    "count = 0\n",
    "for sol in solutions:\n",
    "    count += 1\n",
    "    print(f\"\\nSolution {count}:\")\n",
    "    for row in sol:\n",
    "        print(row)\n",
    "\n",
    "print(f\"\\nTotal solving ways: {count}\")\n"
   ]
  },
  {
   "cell_type": "code",
   "execution_count": null,
   "id": "a1b282cd-2019-4270-85ce-14a47630b32d",
   "metadata": {},
   "outputs": [],
   "source": []
  }
 ],
 "metadata": {
  "kernelspec": {
   "display_name": "Python 3 (ipykernel)",
   "language": "python",
   "name": "python3"
  },
  "language_info": {
   "codemirror_mode": {
    "name": "ipython",
    "version": 3
   },
   "file_extension": ".py",
   "mimetype": "text/x-python",
   "name": "python",
   "nbconvert_exporter": "python",
   "pygments_lexer": "ipython3",
   "version": "3.13.1"
  }
 },
 "nbformat": 4,
 "nbformat_minor": 5
}
